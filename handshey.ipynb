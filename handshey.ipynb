{
 "cells": [
  {
   "cell_type": "code",
   "execution_count": 1,
   "id": "b2bff670-a33f-40a8-8e07-53f82b67729a",
   "metadata": {},
   "outputs": [],
   "source": [
    "import os\n",
    "import cv2\n",
    "import numpy as np\n",
    "import matplotlib.pyplot as plt\n",
    "from pathlib import Path \n",
    "from sklearn.model_selection import train_test_split\n",
    "from tensorflow.keras.utils import to_categorical\n",
    "from tensorflow.keras.models import Sequential\n",
    "from tensorflow.keras.layers import Conv2D, MaxPooling2D, Flatten, Dense, Dropout\n"
   ]
  },
  {
   "cell_type": "code",
   "execution_count": 2,
   "id": "988ad871-b17d-4f8c-8fca-561dc0dcf494",
   "metadata": {},
   "outputs": [
    {
     "name": "stdout",
     "output_type": "stream",
     "text": [
      "Subcarpetas encontradas: 29 ⇒ ['R', 'U', 'I', 'N', 'G', 'Z', 'T', 'S', 'A', 'F']...\n"
     ]
    }
   ],
   "source": [
    "from pathlib import Path\n",
    "DATA_DIR = Path(\"asl_alphabet_train/asl_alphabet_train\")\n",
    "subdirs = [p.name for p in DATA_DIR.iterdir() if p.is_dir()]\n",
    "print(f\"Subcarpetas encontradas: {len(subdirs)} ⇒ {subdirs[:10]}...\")"
   ]
  },
  {
   "cell_type": "code",
   "execution_count": 3,
   "id": "1b8309eb-7873-4afe-a32b-a078bdfca717",
   "metadata": {},
   "outputs": [],
   "source": [
    "def load_data(img_size=64, limit_per_class=None):\n",
    "    X, y = [], []\n",
    "    for idx, category in enumerate(CATEGORIES):\n",
    "        folder = Path(DATA_DIR) / category\n",
    "        imgs = sorted(folder.iterdir())\n",
    "        if limit_per_class:\n",
    "            imgs = imgs[:limit_per_class]          # para debug rápido\n",
    "        for img_path in imgs:\n",
    "            img = cv2.imread(str(img_path))\n",
    "            if img is None:                # <-- imagen corrupta o mal leída\n",
    "                print(f\"[WARN] Saltando {img_path}\")\n",
    "                continue\n",
    "            img = cv2.resize(img, (img_size, img_size), cv2.INTER_AREA)\n",
    "            X.append(img)\n",
    "            y.append(idx)\n",
    "    X = np.asarray(X, dtype=\"float32\") / 255.0\n",
    "    y = to_categorical(y, num_classes=len(CATEGORIES))\n",
    "    return X, y\n",
    "\n"
   ]
  },
  {
   "cell_type": "code",
   "execution_count": 4,
   "id": "154da31f-7173-44a2-9ed6-b1aa5767b26c",
   "metadata": {},
   "outputs": [
    {
     "name": "stdout",
     "output_type": "stream",
     "text": [
      "Found 69600 images belonging to 29 classes.\n",
      "Found 17400 images belonging to 29 classes.\n"
     ]
    }
   ],
   "source": [
    "from tensorflow.keras.preprocessing.image import ImageDataGenerator\n",
    "\n",
    "IMG_SIZE = 64\n",
    "BATCH = 32\n",
    "SEED = 42\n",
    "\n",
    "datagen = ImageDataGenerator(\n",
    "    rescale=1./255,\n",
    "    validation_split=0.2,\n",
    "    rotation_range=15,\n",
    "    width_shift_range=0.10,\n",
    "    height_shift_range=0.10,\n",
    "    shear_range=0.10,\n",
    "    zoom_range=0.10,\n",
    "    fill_mode='nearest'\n",
    ")\n",
    "\n",
    "train_gen = datagen.flow_from_directory(\n",
    "    DATA_DIR,\n",
    "    target_size=(IMG_SIZE, IMG_SIZE),\n",
    "    batch_size=BATCH,\n",
    "    class_mode='categorical',\n",
    "    subset='training',\n",
    "    seed=SEED\n",
    ")\n",
    "\n",
    "val_gen = datagen.flow_from_directory(\n",
    "    DATA_DIR,\n",
    "    target_size=(IMG_SIZE, IMG_SIZE),\n",
    "    batch_size=BATCH,\n",
    "    class_mode='categorical',\n",
    "    subset='validation',\n",
    "    seed=SEED\n",
    ")\n"
   ]
  },
  {
   "cell_type": "code",
   "execution_count": 5,
   "id": "60118905-af99-4fc2-b5f4-3a2ecaca3ef0",
   "metadata": {},
   "outputs": [],
   "source": [
    "#SIN WARNING NUEVAMANERADEHACER\n",
    "from tensorflow.keras import Input\n",
    "from tensorflow.keras.models import Sequential\n",
    "from tensorflow.keras.layers import Conv2D, MaxPooling2D, Flatten, Dense, Dropout\n",
    "\n",
    "model = Sequential([\n",
    "    Input(shape=(64, 64, 3)),                            # 👈 nueva línea\n",
    "    Conv2D(32, (3,3), activation='relu'),\n",
    "    MaxPooling2D(2,2),\n",
    "\n",
    "    Conv2D(64, (3,3), activation='relu'),\n",
    "    MaxPooling2D(2,2),\n",
    "\n",
    "    Flatten(),\n",
    "    Dense(128, activation='relu'),\n",
    "    Dropout(0.3),\n",
    "    Dense(29, activation='softmax')                      # ← asegúrate de tener 29 clases\n",
    "])\n",
    "\n",
    "\n",
    "model.compile(optimizer='adam', loss='categorical_crossentropy', metrics=['accuracy'])"
   ]
  },
  {
   "cell_type": "code",
   "execution_count": 6,
   "id": "9d246e22-2f1e-474e-9813-2aec23143f91",
   "metadata": {},
   "outputs": [
    {
     "name": "stdout",
     "output_type": "stream",
     "text": [
      "Epoch 1/15\n"
     ]
    },
    {
     "name": "stderr",
     "output_type": "stream",
     "text": [
      "/Library/Frameworks/Python.framework/Versions/3.11/lib/python3.11/site-packages/keras/src/trainers/data_adapters/py_dataset_adapter.py:121: UserWarning: Your `PyDataset` class should call `super().__init__(**kwargs)` in its constructor. `**kwargs` can include `workers`, `use_multiprocessing`, `max_queue_size`. Do not pass these arguments to `fit()`, as they will be ignored.\n",
      "  self._warn_if_super_not_called()\n"
     ]
    },
    {
     "name": "stdout",
     "output_type": "stream",
     "text": [
      "\u001b[1m2175/2175\u001b[0m \u001b[32m━━━━━━━━━━━━━━━━━━━━\u001b[0m\u001b[37m\u001b[0m \u001b[1m110s\u001b[0m 50ms/step - accuracy: 0.3149 - loss: 2.3269 - val_accuracy: 0.5271 - val_loss: 1.4762\n",
      "Epoch 2/15\n",
      "\u001b[1m2175/2175\u001b[0m \u001b[32m━━━━━━━━━━━━━━━━━━━━\u001b[0m\u001b[37m\u001b[0m \u001b[1m112s\u001b[0m 52ms/step - accuracy: 0.7156 - loss: 0.8531 - val_accuracy: 0.6417 - val_loss: 1.1612\n",
      "Epoch 3/15\n",
      "\u001b[1m2175/2175\u001b[0m \u001b[32m━━━━━━━━━━━━━━━━━━━━\u001b[0m\u001b[37m\u001b[0m \u001b[1m108s\u001b[0m 50ms/step - accuracy: 0.8030 - loss: 0.5774 - val_accuracy: 0.6610 - val_loss: 1.1738\n",
      "Epoch 4/15\n",
      "\u001b[1m2175/2175\u001b[0m \u001b[32m━━━━━━━━━━━━━━━━━━━━\u001b[0m\u001b[37m\u001b[0m \u001b[1m107s\u001b[0m 49ms/step - accuracy: 0.8459 - loss: 0.4495 - val_accuracy: 0.6705 - val_loss: 1.1963\n",
      "Epoch 5/15\n",
      "\u001b[1m2175/2175\u001b[0m \u001b[32m━━━━━━━━━━━━━━━━━━━━\u001b[0m\u001b[37m\u001b[0m \u001b[1m108s\u001b[0m 50ms/step - accuracy: 0.8684 - loss: 0.3883 - val_accuracy: 0.7144 - val_loss: 1.0762\n",
      "Epoch 6/15\n",
      "\u001b[1m2175/2175\u001b[0m \u001b[32m━━━━━━━━━━━━━━━━━━━━\u001b[0m\u001b[37m\u001b[0m \u001b[1m109s\u001b[0m 50ms/step - accuracy: 0.8920 - loss: 0.3169 - val_accuracy: 0.7399 - val_loss: 0.9759\n",
      "Epoch 7/15\n",
      "\u001b[1m2175/2175\u001b[0m \u001b[32m━━━━━━━━━━━━━━━━━━━━\u001b[0m\u001b[37m\u001b[0m \u001b[1m107s\u001b[0m 49ms/step - accuracy: 0.9011 - loss: 0.2854 - val_accuracy: 0.7280 - val_loss: 0.9982\n",
      "Epoch 8/15\n",
      "\u001b[1m2175/2175\u001b[0m \u001b[32m━━━━━━━━━━━━━━━━━━━━\u001b[0m\u001b[37m\u001b[0m \u001b[1m111s\u001b[0m 51ms/step - accuracy: 0.9141 - loss: 0.2496 - val_accuracy: 0.7393 - val_loss: 0.9606\n",
      "Epoch 9/15\n",
      "\u001b[1m2175/2175\u001b[0m \u001b[32m━━━━━━━━━━━━━━━━━━━━\u001b[0m\u001b[37m\u001b[0m \u001b[1m108s\u001b[0m 50ms/step - accuracy: 0.9213 - loss: 0.2282 - val_accuracy: 0.7482 - val_loss: 1.0567\n",
      "Epoch 10/15\n",
      "\u001b[1m2175/2175\u001b[0m \u001b[32m━━━━━━━━━━━━━━━━━━━━\u001b[0m\u001b[37m\u001b[0m \u001b[1m107s\u001b[0m 49ms/step - accuracy: 0.9269 - loss: 0.2149 - val_accuracy: 0.7595 - val_loss: 0.9132\n",
      "Epoch 11/15\n",
      "\u001b[1m2175/2175\u001b[0m \u001b[32m━━━━━━━━━━━━━━━━━━━━\u001b[0m\u001b[37m\u001b[0m \u001b[1m110s\u001b[0m 51ms/step - accuracy: 0.9348 - loss: 0.1924 - val_accuracy: 0.7585 - val_loss: 0.9758\n",
      "Epoch 12/15\n",
      "\u001b[1m2175/2175\u001b[0m \u001b[32m━━━━━━━━━━━━━━━━━━━━\u001b[0m\u001b[37m\u001b[0m \u001b[1m135s\u001b[0m 62ms/step - accuracy: 0.9380 - loss: 0.1825 - val_accuracy: 0.7602 - val_loss: 1.0413\n",
      "Epoch 13/15\n",
      "\u001b[1m2175/2175\u001b[0m \u001b[32m━━━━━━━━━━━━━━━━━━━━\u001b[0m\u001b[37m\u001b[0m \u001b[1m81s\u001b[0m 37ms/step - accuracy: 0.9386 - loss: 0.1777 - val_accuracy: 0.7771 - val_loss: 0.9080\n",
      "Epoch 14/15\n",
      "\u001b[1m2175/2175\u001b[0m \u001b[32m━━━━━━━━━━━━━━━━━━━━\u001b[0m\u001b[37m\u001b[0m \u001b[1m80s\u001b[0m 37ms/step - accuracy: 0.9447 - loss: 0.1634 - val_accuracy: 0.7811 - val_loss: 0.9191\n",
      "Epoch 15/15\n",
      "\u001b[1m2175/2175\u001b[0m \u001b[32m━━━━━━━━━━━━━━━━━━━━\u001b[0m\u001b[37m\u001b[0m \u001b[1m85s\u001b[0m 39ms/step - accuracy: 0.9507 - loss: 0.1464 - val_accuracy: 0.7667 - val_loss: 0.8672\n"
     ]
    },
    {
     "name": "stderr",
     "output_type": "stream",
     "text": [
      "WARNING:absl:You are saving your model as an HDF5 file via `model.save()` or `keras.saving.save_model(model)`. This file format is considered legacy. We recommend using instead the native Keras format, e.g. `model.save('my_model.keras')` or `keras.saving.save_model(model, 'my_model.keras')`. \n"
     ]
    }
   ],
   "source": [
    "history = model.fit(\n",
    "    train_gen,\n",
    "    validation_data=val_gen,\n",
    "    epochs=15\n",
    ")\n",
    "\n",
    "model.save(\"asl_model_aug.h5\")\n"
   ]
  },
  {
   "cell_type": "code",
   "execution_count": 7,
   "id": "b7cca82e-7cd0-4ece-90cd-de4158235ddc",
   "metadata": {},
   "outputs": [
    {
     "name": "stdout",
     "output_type": "stream",
     "text": [
      "Acc. val final: 0.7810919284820557\n"
     ]
    }
   ],
   "source": [
    "print(\"Acc. val final:\", max(history.history['val_accuracy']))\n"
   ]
  },
  {
   "cell_type": "code",
   "execution_count": 8,
   "id": "44684da1-fa25-4685-af4d-15a5b27cd7e1",
   "metadata": {},
   "outputs": [
    {
     "data": {
      "image/png": "[encoded data removed]",
      "text/plain": [
       "<Figure size 640x480 with 1 Axes>"
      ]
     },
     "metadata": {},
     "output_type": "display_data"
    }
   ],
   "source": [
    "plt.plot(history.history['accuracy'], label='Entrenamiento')\n",
    "plt.plot(history.history['val_accuracy'], label='Validación')\n",
    "plt.title(\"Precisión del modelo\")\n",
    "plt.xlabel(\"Época\")\n",
    "plt.ylabel(\"Precisión\")\n",
    "plt.legend()\n",
    "plt.show()\n"
   ]
  },
  {
   "cell_type": "code",
   "execution_count": null,
   "id": "a91795a9-1b82-41a3-b594-bae5c3cd4d52",
   "metadata": {},
   "outputs": [],
   "source": [
    "from tensorflow.keras.models import load_model\n",
    "\n",
    "model = load_model(\"asl_model_aug.h5\")\n"
   ]
  },
  {
   "cell_type": "code",
   "execution_count": null,
   "id": "5e190a16-800a-4c55-b8da-5fea48de75a2",
   "metadata": {},
   "outputs": [],
   "source": [
    "import os, shutil\n",
    "from pathlib import Path\n",
    "\n",
    "TEST_DIR = Path(\"asl_alphabet_test\")\n",
    "classes = [\n",
    "    'A','B','C','D','E','F','G','H','I','J','K','L','M',\n",
    "    'N','O','P','Q','R','S','T','U','V','W','X','Y','Z',\n",
    "    'del','nothing','space'\n",
    "]\n",
    "\n",
    "# 1. Crear carpetas si no existen\n",
    "for c in classes:\n",
    "    (TEST_DIR / c).mkdir(exist_ok=True)\n",
    "\n",
    "# 2. Mover cada imagen a su carpeta\n",
    "for img in TEST_DIR.glob(\"*.jpg\"):\n",
    "    # Ejemplos de nombres: A_test.jpg, space_test.jpg\n",
    "    name = img.stem.split('_')[0]   # 'A' o 'space'\n",
    "    if name in classes:\n",
    "        shutil.move(img, TEST_DIR / name / img.name)\n",
    "    else:\n",
    "        print(f\"⚠️  No reconozco la clase de {img.name}\")\n",
    "\n",
    "print(\"✅ Reorganización completada\")\n"
   ]
  },
  {
   "cell_type": "code",
   "execution_count": null,
   "id": "8b8616e2-b52a-419c-a57d-a414da2a1379",
   "metadata": {},
   "outputs": [],
   "source": [
    "from tensorflow.keras.preprocessing.image import ImageDataGenerator\n",
    "\n",
    "test_datagen = ImageDataGenerator(rescale=1/255)\n",
    "\n",
    "test_gen = test_datagen.flow_from_directory(\n",
    "    \"asl_alphabet_test\",\n",
    "    target_size=(64, 64),\n",
    "    batch_size=32,\n",
    "    class_mode='categorical',\n",
    "    shuffle=False\n",
    ")\n",
    "\n",
    "print(f\"Total de imágenes en test: {test_gen.samples}\")\n",
    "\n"
   ]
  },
  {
   "cell_type": "code",
   "execution_count": null,
   "id": "c9613d00-b2c5-4dfa-af6f-d94587eb6f74",
   "metadata": {},
   "outputs": [],
   "source": [
    "import numpy as np\n",
    "from sklearn.metrics import classification_report, confusion_matrix\n",
    "\n",
    "y_true = test_gen.classes\n",
    "y_pred = model.predict(test_gen, verbose=1).argmax(axis=1)\n",
    "\n",
    "print(classification_report(y_true, y_pred, target_names=test_gen.class_indices.keys()))\n"
   ]
  },
  {
   "cell_type": "code",
   "execution_count": null,
   "id": "c437b0fb-77e1-4e86-95ee-921ea2c2caad",
   "metadata": {},
   "outputs": [],
   "source": [
    "import seaborn as sns\n",
    "import matplotlib.pyplot as plt\n",
    "from sklearn.metrics import confusion_matrix\n",
    "\n",
    "cm = confusion_matrix(y_true, y_pred)\n",
    "plt.figure(figsize=(12, 10))\n",
    "sns.heatmap(cm, annot=False, cmap='Blues')\n",
    "plt.title(\"Matriz de Confusión\")\n",
    "plt.xlabel(\"Predicción\")\n",
    "plt.ylabel(\"Real\")\n",
    "plt.show()\n"
   ]
  },
  {
   "cell_type": "code",
   "execution_count": null,
   "id": "8593a9fc-c722-41ec-af8e-523ca7ce99b5",
   "metadata": {},
   "outputs": [],
   "source": []
  },
  {
   "cell_type": "code",
   "execution_count": null,
   "id": "b9afd76c-546f-407a-afea-038df2d0486c",
   "metadata": {},
   "outputs": [],
   "source": [
    "from tensorflow.keras.models import load_model\n",
    "from tensorflow.keras.optimizers import Adam\n",
    "from tensorflow.keras.callbacks import ReduceLROnPlateau, EarlyStopping\n",
    "\n",
    "model = load_model(\"asl_model_aug.h5\")\n",
    "\n",
    "# ⚠️ Descongelar las últimas N capas del backbone\n",
    "UNFREEZE = 30\n",
    "for layer in model.layers[-UNFREEZE:]:\n",
    "    if not isinstance(layer, Dense):   # evita re‑compilar las densas\n",
    "        layer.trainable = True\n",
    "\n",
    "model.compile(optimizer=Adam(1e-4),\n",
    "              loss='categorical_crossentropy',\n",
    "              metrics=['accuracy'])\n",
    "\n",
    "callbacks = [\n",
    "    ReduceLROnPlateau(factor=0.2, patience=3, verbose=1),\n",
    "    EarlyStopping(patience=6, restore_best_weights=True, verbose=1)\n",
    "]\n",
    "\n",
    "history_ft = model.fit(\n",
    "    train_gen,\n",
    "    epochs=20,\n",
    "    validation_data=val_gen,\n",
    "    callbacks=callbacks\n",
    ")\n",
    "model.save(\"asl_third_finetuned.keras\")\n"
   ]
  },
  {
   "cell_type": "code",
   "execution_count": null,
   "id": "2b3a4921-a771-4441-b74a-9b4ff891b1ab",
   "metadata": {},
   "outputs": [],
   "source": [
    "test_gen = ImageDataGenerator(rescale=1/255).flow_from_directory(\n",
    "    \"asl_alphabet_test\",\n",
    "    target_size=(64,64),\n",
    "    batch_size=32,\n",
    "    shuffle=False,\n",
    "    class_mode='categorical'\n",
    ")\n",
    "\n",
    "loss, acc = model.evaluate(test_gen)\n",
    "print(f\"📊 Accuracy test: {acc:.4f}\")\n"
   ]
  },
  {
   "cell_type": "code",
   "execution_count": null,
   "id": "61c9bc0d-bf27-4d3b-a09a-42e53e761a6a",
   "metadata": {},
   "outputs": [],
   "source": [
    "from sklearn.metrics import classification_report, confusion_matrix\n",
    "import numpy as np\n",
    "\n",
    "y_true = test_gen.classes\n",
    "y_pred = model.predict(test_gen, verbose=0).argmax(axis=1)\n",
    "print(classification_report(y_true, y_pred, target_names=test_gen.class_indices.keys()))"
   ]
  },
  {
   "cell_type": "code",
   "execution_count": null,
   "id": "faa2d836-6d3f-4bf8-9acd-f4ebd59b1e54",
   "metadata": {},
   "outputs": [],
   "source": []
  },
  {
   "cell_type": "code",
   "execution_count": null,
   "id": "90cb5e5e-c6ed-4869-aeaa-923defe7c961",
   "metadata": {},
   "outputs": [],
   "source": [
    "import matplotlib.pyplot as plt\n",
    "import pandas as pd\n",
    "\n",
    "# ===== Mostrar máximos =====\n",
    "best_epoch = int(np.argmax(history.history['val_accuracy']))\n",
    "best_val  = history.history['val_accuracy'][best_epoch]\n",
    "best_train = history.history['accuracy'][best_epoch]\n",
    "print(f\"Mejor época: {best_epoch+1}  |  \"\n",
    "      f\"accuracy train: {best_train:.4f}  |  accuracy val: {best_val:.4f}\")\n",
    "\n",
    "# ===== Graficar curva =====\n",
    "pd.DataFrame(history.history)[['accuracy','val_accuracy']].plot()\n",
    "plt.title(\"Evolución de accuracy\"); plt.xlabel(\"Época\"); plt.ylabel(\"Accuracy\"); plt.grid(True)\n",
    "plt.show()\n"
   ]
  },
  {
   "cell_type": "markdown",
   "id": "87bda713-4565-4bfb-b523-ee41d6dc1560",
   "metadata": {},
   "source": [
    "Objetivo: rozar ≥ 0.95 val_accuracy con este CNN sencillo.\n",
    "Si no, modelos alternativos y fine‑tuning."
   ]
  },
  {
   "cell_type": "code",
   "execution_count": null,
   "id": "e9c90655-6c30-4e16-9700-bfe61eb34c23",
   "metadata": {},
   "outputs": [],
   "source": [
    "#OTROS MODELOS\n"
   ]
  },
  {
   "cell_type": "code",
   "execution_count": null,
   "id": "89f45686-2e75-4243-9c06-e782fe3bb703",
   "metadata": {},
   "outputs": [],
   "source": []
  },
  {
   "cell_type": "code",
   "execution_count": null,
   "id": "9b9a8e03-6c0f-4954-805a-40b6bab47b90",
   "metadata": {},
   "outputs": [],
   "source": []
  }
 ],
 "metadata": {
  "kernelspec": {
   "display_name": "Python 3 (ipykernel)",
   "language": "python",
   "name": "python3"
  },
  "language_info": {
   "codemirror_mode": {
    "name": "ipython",
    "version": 3
   },
   "file_extension": ".py",
   "mimetype": "text/x-python",
   "name": "python",
   "nbconvert_exporter": "python",
   "pygments_lexer": "ipython3",
   "version": "3.11.1"
  }
 },
 "nbformat": 4,
 "nbformat_minor": 5
}
